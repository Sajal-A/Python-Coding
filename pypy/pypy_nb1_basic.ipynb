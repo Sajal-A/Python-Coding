{
 "cells": [
  {
   "cell_type": "code",
   "execution_count": 4,
   "metadata": {},
   "outputs": [
    {
     "name": "stdout",
     "output_type": "stream",
     "text": [
      "TIME: 21:03:23\n",
      "TIME: 21:03:26\n"
     ]
    }
   ],
   "source": [
    "#basic already covered \n",
    "#let's start with defining python function\n",
    "\n",
    "'''\n",
    "    when question about code reusabilty, here function is very useful.\n",
    "    defined and call any where you want\n",
    "'''\n",
    "from datetime import datetime\n",
    "import time\n",
    "def show_time():\n",
    "    now: datetime = datetime.now()\n",
    "    print(f'TIME: {now:%H:%M:%S}')\n",
    "    \n",
    "show_time()\n",
    "time.sleep(3)\n",
    "show_time()"
   ]
  },
  {
   "cell_type": "code",
   "execution_count": 5,
   "metadata": {},
   "outputs": [
    {
     "name": "stdout",
     "output_type": "stream",
     "text": [
      "hello, Papai\n",
      "hello, james\n"
     ]
    }
   ],
   "source": [
    "#fucntion without any defination\n",
    "def get_status():\n",
    "    ...\n",
    " \n",
    "#function with parameter   \n",
    "def greet(name:str):\n",
    "    print(f'hello, {name}')\n",
    "    \n",
    "greet('Papai')\n",
    "greet('james')\n",
    "\n",
    "\n"
   ]
  },
  {
   "cell_type": "code",
   "execution_count": 6,
   "metadata": {},
   "outputs": [
    {
     "name": "stdout",
     "output_type": "stream",
     "text": [
      "Getting the length of string: \"Sajal\"...\n",
      "5\n"
     ]
    }
   ],
   "source": [
    "#defining  a function with return type as int\n",
    "def get_length(text: str) -> int:\n",
    "    print(f'Getting the length of string: \"{text}\"...')\n",
    "    return len(text)\n",
    "name:str = 'Sajal'\n",
    "length:int = get_length(name)\n",
    "print(length)"
   ]
  },
  {
   "cell_type": "code",
   "execution_count": 8,
   "metadata": {},
   "outputs": [
    {
     "name": "stdout",
     "output_type": "stream",
     "text": [
      "I am not from this world\n",
      "None\n"
     ]
    }
   ],
   "source": [
    "def connect_to_world() -> None:\n",
    "    print('I am not from this world')\n",
    "\n",
    "print(connect_to_world()) #return nothing"
   ]
  },
  {
   "cell_type": "code",
   "execution_count": 10,
   "metadata": {},
   "outputs": [
    {
     "name": "stdout",
     "output_type": "stream",
     "text": [
      "connection failed. trying angain in: 0s...\n",
      "connection failed. trying angain in: 2s...\n",
      "connection failed. trying angain in: 4s...\n",
      "connection failed. trying angain in: 6s...\n",
      "connection failed. trying angain in: 8s...\n",
      "connection failed. trying angain in: 10s...\n",
      "connected!\n"
     ]
    }
   ],
   "source": [
    "#recursion -> function calling to itself\n",
    "def connect_to_internet(signal:bool,delay:int) -> None :\n",
    "    if delay > 10 :\n",
    "        signal = True\n",
    "    \n",
    "    if signal:\n",
    "        print('connected!')\n",
    "    else:\n",
    "        print(f'connection failed. trying angain in: {delay}s...')\n",
    "        time.sleep(delay)\n",
    "        connect_to_internet(signal,delay+2)\n",
    "    \n",
    "connect_to_internet(False,0)"
   ]
  },
  {
   "cell_type": "code",
   "execution_count": 13,
   "metadata": {},
   "outputs": [
    {
     "name": "stdout",
     "output_type": "stream",
     "text": [
      "(1, 13, 12)\n",
      "26\n"
     ]
    }
   ],
   "source": [
    "# *args\n",
    "\n",
    "def addition(*args:int) -> int:\n",
    "    print(args)\n",
    "    return sum(args)\n",
    "print(addition(1,13,12))"
   ]
  },
  {
   "cell_type": "code",
   "execution_count": 14,
   "metadata": {},
   "outputs": [
    {
     "name": "stdout",
     "output_type": "stream",
     "text": [
      "{'x': 10, 'y': 'Name', 'z': True}\n"
     ]
    }
   ],
   "source": [
    "# **kwargs\n",
    "def display(**kwargs) -> None:\n",
    "    print(kwargs)\n",
    "    \n",
    "display(x=10,y='Name',z=True)"
   ]
  },
  {
   "cell_type": "code",
   "execution_count": 24,
   "metadata": {},
   "outputs": [
    {
     "name": "stdout",
     "output_type": "stream",
     "text": [
      "('23', 'sa')\n",
      "{'a': 1, 'b': 2, 'c': '3'}\n",
      "23.3\n"
     ]
    }
   ],
   "source": [
    "'''\n",
    "    the sequence should be maintained\n",
    "'''\n",
    "def func(*args:str, default:str, **kwargs:int) -> None:\n",
    "    print(args)\n",
    "    print(kwargs)\n",
    "    print(default)\n",
    "\n",
    "func('23','sa',default = 23.3,a=1,b=2,c='3')\n",
    "    "
   ]
  },
  {
   "cell_type": "code",
   "execution_count": 2,
   "metadata": {},
   "outputs": [
    {
     "name": "stdout",
     "output_type": "stream",
     "text": [
      "Error division by zero\n",
      "i'm done\n"
     ]
    }
   ],
   "source": [
    "#exception handling\n",
    "try:\n",
    "    result:float = 10/0\n",
    "    print(result)\n",
    "except Exception as e:\n",
    "    print(f'Error {e}')\n",
    "print('i\\'m done')"
   ]
  },
  {
   "cell_type": "code",
   "execution_count": 9,
   "metadata": {},
   "outputs": [
    {
     "name": "stdout",
     "output_type": "stream",
     "text": [
      "You cannot use: \"sf\" as a value\n",
      "It's finally\n"
     ]
    }
   ],
   "source": [
    "user_input:str = 'sf'\n",
    "try:\n",
    "    result:float = 1/float(user_input)\n",
    "    print(f'1/ {user_input} = {result}')\n",
    "except ValueError:\n",
    "    print(f'You cannot use: \"{user_input}\" as a value')\n",
    "except ZeroDivisionError:\n",
    "    print('Don\\'t be silly you cannot divide by zero')\n",
    "else:\n",
    "    print('Sucess! there were no exception')\n",
    "finally:\n",
    "    print('It\\'s finally')\n",
    "\n",
    "\n",
    "    "
   ]
  },
  {
   "cell_type": "code",
   "execution_count": 14,
   "metadata": {},
   "outputs": [
    {
     "ename": "ValueError",
     "evalue": "Not a valid age....",
     "output_type": "error",
     "traceback": [
      "\u001b[1;31m---------------------------------------------------------------------------\u001b[0m",
      "\u001b[1;31mValueError\u001b[0m                                Traceback (most recent call last)",
      "Cell \u001b[1;32mIn[14], line 12\u001b[0m\n\u001b[0;32m      9\u001b[0m         \u001b[39mprint\u001b[39m(\u001b[39m'\u001b[39m\u001b[39mYou are not old enough...\u001b[39m\u001b[39m'\u001b[39m)\n\u001b[0;32m     10\u001b[0m         \u001b[39mreturn\u001b[39;00m \u001b[39mFalse\u001b[39;00m\n\u001b[1;32m---> 12\u001b[0m check_age(\u001b[39m-\u001b[39m\u001b[39m24\u001b[39m)\n",
      "Cell \u001b[1;32mIn[14], line 4\u001b[0m, in \u001b[0;36mcheck_age\u001b[1;34m(age)\u001b[0m\n\u001b[0;32m      2\u001b[0m \u001b[39mdef\u001b[39;00m \u001b[39mcheck_age\u001b[39m(age:\u001b[39mint\u001b[39m) \u001b[39m-\u001b[39m\u001b[39m>\u001b[39m \u001b[39mbool\u001b[39m:\n\u001b[0;32m      3\u001b[0m     \u001b[39mif\u001b[39;00m age\u001b[39m<\u001b[39m\u001b[39m0\u001b[39m:\n\u001b[1;32m----> 4\u001b[0m         \u001b[39mraise\u001b[39;00m \u001b[39mValueError\u001b[39;00m(\u001b[39m'\u001b[39m\u001b[39mNot a valid age....\u001b[39m\u001b[39m'\u001b[39m)\n\u001b[0;32m      5\u001b[0m     \u001b[39melif\u001b[39;00m age\u001b[39m>\u001b[39m\u001b[39m=\u001b[39m\u001b[39m21\u001b[39m:\n\u001b[0;32m      6\u001b[0m         \u001b[39mprint\u001b[39m(\u001b[39m'\u001b[39m\u001b[39mYou are old enough!!!\u001b[39m\u001b[39m'\u001b[39m)\n",
      "\u001b[1;31mValueError\u001b[0m: Not a valid age...."
     ]
    }
   ],
   "source": [
    "#raising an exception\n",
    "def check_age(age:int) -> bool:\n",
    "    if age<0:\n",
    "        raise ValueError('Not a valid age....')\n",
    "    elif age>=21:\n",
    "        print('You are old enough!!!')\n",
    "        return True\n",
    "    else:\n",
    "        print('You are not old enough...')\n",
    "        return False\n",
    "    \n",
    "check_age(-24)"
   ]
  },
  {
   "cell_type": "code",
   "execution_count": 18,
   "metadata": {},
   "outputs": [
    {
     "name": "stdout",
     "output_type": "stream",
     "text": [
      "You Entered: 23.0\n"
     ]
    }
   ],
   "source": [
    "try:\n",
    "    user_input:str = input('Type a number: ')\n",
    "    number:float = float(user_input)\n",
    "    print(f'You Entered: {number}')\n",
    "except Exception as e :\n",
    "    print('Your program encounters an exception')\n",
    "    print(f'Type: {type(e)}')\n",
    "    print(f'Error: {e}')\n"
   ]
  },
  {
   "cell_type": "code",
   "execution_count": 19,
   "metadata": {},
   "outputs": [
    {
     "ename": "ZeroDivisionError",
     "evalue": "division by zero",
     "output_type": "error",
     "traceback": [
      "\u001b[1;31m---------------------------------------------------------------------------\u001b[0m",
      "\u001b[1;31mValueError\u001b[0m                                Traceback (most recent call last)",
      "Cell \u001b[1;32mIn[19], line 2\u001b[0m\n\u001b[0;32m      1\u001b[0m \u001b[39mtry\u001b[39;00m:\n\u001b[1;32m----> 2\u001b[0m     x:\u001b[39mint\u001b[39m \u001b[39m=\u001b[39m \u001b[39mint\u001b[39m(\u001b[39m'\u001b[39m\u001b[39mpython\u001b[39m\u001b[39m'\u001b[39m)\n\u001b[0;32m      3\u001b[0m \u001b[39mexcept\u001b[39;00m \u001b[39mException\u001b[39;00m \u001b[39mas\u001b[39;00m e:\n",
      "\u001b[1;31mValueError\u001b[0m: invalid literal for int() with base 10: 'python'",
      "\nDuring handling of the above exception, another exception occurred:\n",
      "\u001b[1;31mZeroDivisionError\u001b[0m                         Traceback (most recent call last)",
      "Cell \u001b[1;32mIn[19], line 4\u001b[0m\n\u001b[0;32m      2\u001b[0m     x:\u001b[39mint\u001b[39m \u001b[39m=\u001b[39m \u001b[39mint\u001b[39m(\u001b[39m'\u001b[39m\u001b[39mpython\u001b[39m\u001b[39m'\u001b[39m)\n\u001b[0;32m      3\u001b[0m \u001b[39mexcept\u001b[39;00m \u001b[39mException\u001b[39;00m \u001b[39mas\u001b[39;00m e:\n\u001b[1;32m----> 4\u001b[0m     x:\u001b[39mint\u001b[39m \u001b[39m=\u001b[39m \u001b[39m1\u001b[39m\u001b[39m/\u001b[39m\u001b[39m0\u001b[39m\n\u001b[0;32m      6\u001b[0m \u001b[39mprint\u001b[39m(x)\n",
      "\u001b[1;31mZeroDivisionError\u001b[0m: division by zero"
     ]
    }
   ],
   "source": [
    "try:\n",
    "    x:int = int('python')\n",
    "except Exception as e:\n",
    "    x:int = 1/0\n",
    "    \n",
    "print(x)"
   ]
  },
  {
   "cell_type": "code",
   "execution_count": 2,
   "metadata": {},
   "outputs": [
    {
     "name": "stdout",
     "output_type": "stream",
     "text": [
      "1:sajal\n",
      "2:kajal\n",
      "3:tejas\n"
     ]
    }
   ],
   "source": [
    "user = {1:'sajal',2:'kajal',3:'tejas'}\n",
    "\n",
    "if user:\n",
    "    for k, v in user.items():\n",
    "        print(k,v,sep=':')\n",
    "else:\n",
    "    print('No data found')"
   ]
  },
  {
   "cell_type": "code",
   "execution_count": null,
   "metadata": {},
   "outputs": [],
   "source": [
    "import pandas as pd"
   ]
  }
 ],
 "metadata": {
  "kernelspec": {
   "display_name": "base",
   "language": "python",
   "name": "python3"
  },
  "language_info": {
   "codemirror_mode": {
    "name": "ipython",
    "version": 3
   },
   "file_extension": ".py",
   "mimetype": "text/x-python",
   "name": "python",
   "nbconvert_exporter": "python",
   "pygments_lexer": "ipython3",
   "version": "3.10.7"
  },
  "orig_nbformat": 4
 },
 "nbformat": 4,
 "nbformat_minor": 2
}
