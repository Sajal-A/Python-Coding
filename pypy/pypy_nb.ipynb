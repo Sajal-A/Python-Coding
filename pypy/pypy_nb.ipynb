{
 "cells": [
  {
   "cell_type": "code",
   "execution_count": 1,
   "metadata": {},
   "outputs": [
    {
     "name": "stdout",
     "output_type": "stream",
     "text": [
      "Sajal's laptop\n",
      "c:\\docs\\nilo\n",
      "d:\\docs\n",
      "iloy\n"
     ]
    }
   ],
   "source": [
    "print(\"Sajal's laptop\")\n",
    "print(r'c:\\docs\\nilo')\n",
    "print('d:\\docs\\niloy')"
   ]
  },
  {
   "cell_type": "code",
   "execution_count": 2,
   "metadata": {},
   "outputs": [
    {
     "name": "stdout",
     "output_type": "stream",
     "text": [
      "140\n",
      "[4, 5, 20, 23, 29, 59]\n"
     ]
    }
   ],
   "source": [
    "list_nums = [23,4,29,5,59,20]\n",
    "print(sum(list_nums))\n",
    "print(sorted(list_nums))"
   ]
  },
  {
   "cell_type": "code",
   "execution_count": 3,
   "metadata": {},
   "outputs": [
    {
     "name": "stdout",
     "output_type": "stream",
     "text": [
      "addition:  24\n"
     ]
    }
   ],
   "source": [
    "#take some user input\n",
    "x =int(input(\"Enter 1st number: \"))\n",
    "y=int(input(\"Enter 2nd number: \"))\n",
    "add = x+y\n",
    "print(\"addition: \",add)"
   ]
  },
  {
   "cell_type": "code",
   "execution_count": 4,
   "metadata": {},
   "outputs": [
    {
     "name": "stdout",
     "output_type": "stream",
     "text": [
      "Event\n",
      "why!!\n"
     ]
    }
   ],
   "source": [
    "# conditional statement\n",
    "\n",
    "#checking whether the number is even or odd\n",
    "num =20\n",
    "if num%2==0:\n",
    "    print(\"Event\")\n",
    "else:\n",
    "    print(\"ODD\")\n",
    "print('why!!')"
   ]
  },
  {
   "cell_type": "code",
   "execution_count": 5,
   "metadata": {},
   "outputs": [
    {
     "name": "stdout",
     "output_type": "stream",
     "text": [
      "May be i don't know\n"
     ]
    }
   ],
   "source": [
    "x=10\n",
    "if x==1:\n",
    "    print(\"one\")\n",
    "elif x==2:\n",
    "    print(\"two\")\n",
    "else:\n",
    "    print(\"May be i don't know\")\n",
    "\n",
    "\n"
   ]
  },
  {
   "cell_type": "code",
   "execution_count": 6,
   "metadata": {},
   "outputs": [
    {
     "name": "stdout",
     "output_type": "stream",
     "text": [
      "0 1 2 3 4 5 "
     ]
    }
   ],
   "source": [
    "#Loop \n",
    "i=0\n",
    "while i<=5:\n",
    "    print(i,end=\" \")\n",
    "    i+=1"
   ]
  },
  {
   "cell_type": "code",
   "execution_count": 7,
   "metadata": {},
   "outputs": [
    {
     "name": "stdout",
     "output_type": "stream",
     "text": [
      "S a j a l \n",
      "*************\n",
      "11 13 15 17 19 "
     ]
    }
   ],
   "source": [
    "name = 'Sajal'\n",
    "for i in name:\n",
    "    print(i,end=\" \")\n",
    "print('\\n*************')    \n",
    "for i in range(11,20,2):\n",
    "    print(i,end=\" \")"
   ]
  },
  {
   "cell_type": "code",
   "execution_count": 8,
   "metadata": {},
   "outputs": [
    {
     "name": "stdout",
     "output_type": "stream",
     "text": [
      "# # # # \n",
      "# # # # \n",
      "# # # # \n",
      "# # # # \n"
     ]
    }
   ],
   "source": [
    "#let's print a pattern\n",
    "row = range(4)\n",
    "for i in row:\n",
    "    for j in row:\n",
    "        print(\"# \",end=\"\")\n",
    "    print()"
   ]
  },
  {
   "cell_type": "code",
   "execution_count": 11,
   "metadata": {},
   "outputs": [
    {
     "name": "stdout",
     "output_type": "stream",
     "text": [
      "in fun,  23\n",
      "a outside,  12\n"
     ]
    }
   ],
   "source": [
    "a  = 12\n",
    "def something():\n",
    "    # global a\n",
    "    a = 23  #local to the scope\n",
    "    \n",
    "    # x = globals()[a]\n",
    "    print('in fun, ', a)\n",
    "    \n",
    "something()\n",
    "print('a outside, ',a)"
   ]
  },
  {
   "cell_type": "code",
   "execution_count": 12,
   "metadata": {},
   "outputs": [
    {
     "name": "stdout",
     "output_type": "stream",
     "text": [
      "my name is Sajal \n",
      " I am 12\n",
      "my name is Sajal \n",
      " I am 12 years old\n"
     ]
    }
   ],
   "source": [
    "#formatted string literal\n",
    "name = 'Sajal'\n",
    "age = 12\n",
    "\n",
    "print('my name is {} \\n I am {}'.format(name,age)) #str.format\n",
    "print(f'my name is {name} \\n I am {age} years old')#f - string "
   ]
  },
  {
   "cell_type": "code",
   "execution_count": 13,
   "metadata": {},
   "outputs": [
    {
     "name": "stdout",
     "output_type": "stream",
     "text": [
      "120\n"
     ]
    }
   ],
   "source": [
    "#factorial of number\n",
    "def fact(n):\n",
    "    fac = 1\n",
    "    for i in range(1,n+1):\n",
    "        fac = fac*i\n",
    "    return fac\n",
    "\n",
    "factorial = fact(5)\n",
    "print(factorial)"
   ]
  },
  {
   "cell_type": "code",
   "execution_count": 17,
   "metadata": {},
   "outputs": [
    {
     "name": "stdout",
     "output_type": "stream",
     "text": [
      "3628800\n"
     ]
    }
   ],
   "source": [
    "#let's do it by recursion\n",
    "def fact_rec(n):\n",
    "    if n == 0:\n",
    "        return 1\n",
    "    return n*fact_rec(n-1)\n",
    "    \n",
    "factorial = fact_rec(10)\n",
    "print(factorial)"
   ]
  },
  {
   "cell_type": "code",
   "execution_count": 19,
   "metadata": {},
   "outputs": [
    {
     "name": "stdout",
     "output_type": "stream",
     "text": [
      "25\n",
      "144\n"
     ]
    }
   ],
   "source": [
    "#anonymous function ||| Lambda function\n",
    "\n",
    "#let's calculate square of a number\n",
    "\n",
    "def squ(a):\n",
    "    return a*a\n",
    "\n",
    "result = squ(5)\n",
    "print(result)\n",
    "\n",
    "fun = lambda a : a*a\n",
    "print(fun(12))"
   ]
  },
  {
   "cell_type": "code",
   "execution_count": 25,
   "metadata": {},
   "outputs": [
    {
     "name": "stdout",
     "output_type": "stream",
     "text": [
      "[2, 34, 12, 20, 68, 10]\n"
     ]
    }
   ],
   "source": [
    "#filter\n",
    "\n",
    "nums = [2,34,12,45,65,20,68,10,33]\n",
    "\n",
    "# def is_even(n):\n",
    "#     return n%2==0\n",
    "\n",
    "\n",
    "# even = list(filter(is_even,nums))\n",
    "#using lambda function\n",
    "even = list(filter(lambda n : n%2==0,nums))\n",
    "print(even)\n",
    "\n"
   ]
  },
  {
   "cell_type": "code",
   "execution_count": 27,
   "metadata": {},
   "outputs": [
    {
     "name": "stdout",
     "output_type": "stream",
     "text": [
      "[4, 68, 24, 40, 136, 20]\n"
     ]
    }
   ],
   "source": [
    "double = list(map(lambda n : n*2,even))\n",
    "print(double)"
   ]
  },
  {
   "cell_type": "code",
   "execution_count": 28,
   "metadata": {},
   "outputs": [
    {
     "name": "stdout",
     "output_type": "stream",
     "text": [
      "292\n"
     ]
    }
   ],
   "source": [
    "from functools import reduce\n",
    "value = reduce(lambda a,b : a+b,double)\n",
    "print(value)"
   ]
  },
  {
   "cell_type": "code",
   "execution_count": 30,
   "metadata": {},
   "outputs": [
    {
     "name": "stdout",
     "output_type": "stream",
     "text": [
      "4.0\n"
     ]
    }
   ],
   "source": [
    "#Let's Something called decorator\n",
    "def div(a,b):\n",
    "    print(a/b)\n",
    "\n",
    "def revise_div(func):\n",
    "    \n",
    "    def check(a,b):\n",
    "        if a<b:\n",
    "            a,b = b,a\n",
    "        return func(a,b)\n",
    "    return check\n",
    "div = revise_div(div)\n",
    "div(5,20)"
   ]
  },
  {
   "cell_type": "code",
   "execution_count": 3,
   "metadata": {},
   "outputs": [
    {
     "name": "stdout",
     "output_type": "stream",
     "text": [
      "number: 1,039,122\n"
     ]
    }
   ],
   "source": [
    "num = 1039122\n",
    "print(f'number: {num:,}')"
   ]
  },
  {
   "cell_type": "code",
   "execution_count": 7,
   "metadata": {},
   "outputs": [
    {
     "name": "stdout",
     "output_type": "stream",
     "text": [
      "Sajal\n",
      "Shreya\n"
     ]
    }
   ],
   "source": [
    "class Computer:\n",
    "    def __init__(self) -> None:\n",
    "        self.name = \"Sajal\"\n",
    "        self.age = 23\n",
    "\n",
    "c1 = Computer()\n",
    "c2 = Computer()\n",
    "c2.name = 'Shreya'\n",
    "\n",
    "print(c1.name)\n",
    "print(c2.name)"
   ]
  },
  {
   "cell_type": "code",
   "execution_count": 11,
   "metadata": {},
   "outputs": [
    {
     "name": "stdout",
     "output_type": "stream",
     "text": [
      "13.0\n",
      "ACD\n",
      "This is my school\n"
     ]
    }
   ],
   "source": [
    "class Student:\n",
    "    school  = 'ACD' #class variable\n",
    "    \n",
    "    #instance variable --- by constructor\n",
    "    def __init__(self,m1,m2,m3) -> None:\n",
    "        self.m1 = m1\n",
    "        self.m2 = m2\n",
    "        self.m3 = m3\n",
    "    \n",
    "   #instance method\n",
    "    def avg(self):\n",
    "        return (self.m1+self.m2+self.m3)/3\n",
    "    \n",
    "    #class method\n",
    "    @classmethod\n",
    "    def info(cls):\n",
    "        return cls.school\n",
    "    \n",
    "    #static method --not associate with methos\n",
    "    @staticmethod\n",
    "    def information():\n",
    "        print(\"This is my school\")\n",
    "    \n",
    "s1 = Student(12,13,14)\n",
    "s2 = Student(15,16,17)\n",
    "\n",
    "print(s1.avg())\n",
    "print(Student.info())\n",
    "Student.information()"
   ]
  },
  {
   "cell_type": "code",
   "execution_count": 1,
   "metadata": {},
   "outputs": [],
   "source": [
    "import pandas as pd\n",
    "data = pd.DataFrame(\n",
    "    {\n",
    "        'data':[12,23,1,13],\n",
    "        'data1':[213,43,342,452]\n",
    "    }\n",
    ")"
   ]
  },
  {
   "cell_type": "code",
   "execution_count": 2,
   "metadata": {},
   "outputs": [
    {
     "data": {
      "text/html": [
       "<div>\n",
       "<style scoped>\n",
       "    .dataframe tbody tr th:only-of-type {\n",
       "        vertical-align: middle;\n",
       "    }\n",
       "\n",
       "    .dataframe tbody tr th {\n",
       "        vertical-align: top;\n",
       "    }\n",
       "\n",
       "    .dataframe thead th {\n",
       "        text-align: right;\n",
       "    }\n",
       "</style>\n",
       "<table border=\"1\" class=\"dataframe\">\n",
       "  <thead>\n",
       "    <tr style=\"text-align: right;\">\n",
       "      <th></th>\n",
       "      <th>data</th>\n",
       "      <th>data1</th>\n",
       "    </tr>\n",
       "  </thead>\n",
       "  <tbody>\n",
       "    <tr>\n",
       "      <th>0</th>\n",
       "      <td>12</td>\n",
       "      <td>213</td>\n",
       "    </tr>\n",
       "    <tr>\n",
       "      <th>1</th>\n",
       "      <td>23</td>\n",
       "      <td>43</td>\n",
       "    </tr>\n",
       "    <tr>\n",
       "      <th>2</th>\n",
       "      <td>1</td>\n",
       "      <td>342</td>\n",
       "    </tr>\n",
       "    <tr>\n",
       "      <th>3</th>\n",
       "      <td>13</td>\n",
       "      <td>452</td>\n",
       "    </tr>\n",
       "  </tbody>\n",
       "</table>\n",
       "</div>"
      ],
      "text/plain": [
       "   data  data1\n",
       "0    12    213\n",
       "1    23     43\n",
       "2     1    342\n",
       "3    13    452"
      ]
     },
     "execution_count": 2,
     "metadata": {},
     "output_type": "execute_result"
    }
   ],
   "source": [
    "data"
   ]
  },
  {
   "cell_type": "code",
   "execution_count": null,
   "metadata": {},
   "outputs": [],
   "source": []
  }
 ],
 "metadata": {
  "kernelspec": {
   "display_name": "base",
   "language": "python",
   "name": "python3"
  },
  "language_info": {
   "codemirror_mode": {
    "name": "ipython",
    "version": 3
   },
   "file_extension": ".py",
   "mimetype": "text/x-python",
   "name": "python",
   "nbconvert_exporter": "python",
   "pygments_lexer": "ipython3",
   "version": "3.12.2"
  },
  "orig_nbformat": 4
 },
 "nbformat": 4,
 "nbformat_minor": 2
}
