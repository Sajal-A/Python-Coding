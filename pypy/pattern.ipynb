{
 "cells": [
  {
   "cell_type": "code",
   "execution_count": 65,
   "metadata": {},
   "outputs": [
    {
     "name": "stdout",
     "output_type": "stream",
     "text": [
      "Normal pyramid\n",
      "    *     \n",
      "   * *    \n",
      "  * * *   \n",
      " * * * *  \n",
      "* * * * * \n"
     ]
    }
   ],
   "source": [
    "print(\"Normal pyramid\")\n",
    "n = 5\n",
    "for i in range(n):\n",
    "    x =\"* \"\n",
    "    x = x*(i+1)\n",
    "    print(f'{x:^10}')"
   ]
  },
  {
   "cell_type": "code",
   "execution_count": 69,
   "metadata": {},
   "outputs": [
    {
     "name": "stdout",
     "output_type": "stream",
     "text": [
      "Inverted Pyramid\n",
      "* * * * * * * * * * \n",
      " * * * * * * * * *  \n",
      "  * * * * * * * *   \n",
      "   * * * * * * *    \n",
      "    * * * * * *     \n",
      "     * * * * *      \n",
      "      * * * *       \n",
      "       * * *        \n",
      "        * *         \n",
      "         *          \n"
     ]
    }
   ],
   "source": [
    "print('Inverted Pyramid')\n",
    "n=10\n",
    "for i in range(n):\n",
    "    x = '* '\n",
    "    x = x * (n-i)\n",
    "    print(f'{x:^20}')"
   ]
  },
  {
   "cell_type": "code",
   "execution_count": 76,
   "metadata": {},
   "outputs": [
    {
     "name": "stdout",
     "output_type": "stream",
     "text": [
      "Left sided pyramid\n",
      "*         \n",
      "* *       \n",
      "* * *     \n",
      "* * * *   \n",
      "* * * * * \n"
     ]
    }
   ],
   "source": [
    "print('Left sided pyramid')\n",
    "n=5\n",
    "for i in range(n):\n",
    "    x =\"* \"\n",
    "    x = x*(i+1)\n",
    "    print(f'{x:<10}')\n",
    "    "
   ]
  },
  {
   "cell_type": "code",
   "execution_count": 79,
   "metadata": {},
   "outputs": [
    {
     "name": "stdout",
     "output_type": "stream",
     "text": [
      "Right sided pyramid\n",
      "        * \n",
      "      * * \n",
      "    * * * \n",
      "  * * * * \n",
      "* * * * * \n"
     ]
    }
   ],
   "source": [
    "print('Right sided pyramid')\n",
    "n=5\n",
    "for i in range(n):\n",
    "    x =\"* \"\n",
    "    x = x*(i+1)\n",
    "    print(f'{x:>10}')"
   ]
  },
  {
   "cell_type": "code",
   "execution_count": 95,
   "metadata": {},
   "outputs": [
    {
     "name": "stdout",
     "output_type": "stream",
     "text": [
      "              *               \n",
      "* * * * * * * * * * * * * * * \n",
      "             * *              \n",
      " * * * * * * * * * * * * * *  \n",
      "            * * *             \n",
      "  * * * * * * * * * * * * *   \n",
      "           * * * *            \n",
      "   * * * * * * * * * * * *    \n",
      "          * * * * *           \n",
      "    * * * * * * * * * * *     \n",
      "         * * * * * *          \n",
      "     * * * * * * * * * *      \n",
      "        * * * * * * *         \n",
      "      * * * * * * * * *       \n",
      "       * * * * * * * *        \n",
      "       * * * * * * * *        \n",
      "      * * * * * * * * *       \n",
      "        * * * * * * *         \n",
      "     * * * * * * * * * *      \n",
      "         * * * * * *          \n",
      "    * * * * * * * * * * *     \n",
      "          * * * * *           \n",
      "   * * * * * * * * * * * *    \n",
      "           * * * *            \n",
      "  * * * * * * * * * * * * *   \n",
      "            * * *             \n",
      " * * * * * * * * * * * * * *  \n",
      "             * *              \n",
      "* * * * * * * * * * * * * * * \n",
      "              *               \n"
     ]
    }
   ],
   "source": [
    "n = 15\n",
    "for i in range(n):\n",
    "    x =\"* \"\n",
    "    x = x*(i+1)\n",
    "    print(f'{x:^30}')\n",
    "    y = \"* \"\n",
    "    y = y * (n-i)\n",
    "    print(f'{y:^30}')"
   ]
  },
  {
   "cell_type": "code",
   "execution_count": null,
   "metadata": {},
   "outputs": [],
   "source": []
  }
 ],
 "metadata": {
  "kernelspec": {
   "display_name": "base",
   "language": "python",
   "name": "python3"
  },
  "language_info": {
   "codemirror_mode": {
    "name": "ipython",
    "version": 3
   },
   "file_extension": ".py",
   "mimetype": "text/x-python",
   "name": "python",
   "nbconvert_exporter": "python",
   "pygments_lexer": "ipython3",
   "version": "3.11.3"
  },
  "orig_nbformat": 4
 },
 "nbformat": 4,
 "nbformat_minor": 2
}
